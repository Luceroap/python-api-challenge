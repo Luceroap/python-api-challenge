{
 "cells": [
  {
   "cell_type": "markdown",
   "metadata": {},
   "source": [
    "# VacationPy\n",
    "----\n",
    "\n",
    "#### Note\n",
    "* Keep an eye on your API usage. Use https://developers.google.com/maps/reporting/gmp-reporting as reference for how to monitor your usage and billing.\n",
    "\n",
    "* Instructions have been included for each segment. You do not have to follow them exactly, but they are included to help you think through the steps."
   ]
  },
  {
   "cell_type": "code",
   "execution_count": 1,
   "metadata": {},
   "outputs": [],
   "source": [
    "# Dependencies and Setup\n",
    "import matplotlib.pyplot as plt\n",
    "import pandas as pd\n",
    "import numpy as np\n",
    "import requests\n",
    "import gmaps\n",
    "import os\n",
    "\n",
    "# Import API key\n",
    "from api_keys import g_key"
   ]
  },
  {
   "cell_type": "markdown",
   "metadata": {},
   "source": [
    "### Store Part I results into DataFrame\n",
    "* Load the csv exported in Part I to a DataFrame"
   ]
  },
  {
   "cell_type": "code",
   "execution_count": 2,
   "metadata": {},
   "outputs": [
    {
     "output_type": "execute_result",
     "data": {
      "text/plain": [
       "              City      Lat  Longitude  Max Temp  Humidity  Cloudiness  \\\n",
       "0          Qaanaaq  77.4840   -69.3632     38.89        79          71   \n",
       "1        Carnarvon -24.8667   113.6333     48.27        38          66   \n",
       "2          Kavieng  -2.5744   150.7967     81.82        77         100   \n",
       "3       Butaritari   3.0707   172.7902     81.82        78         100   \n",
       "4    Half Moon Bay  37.4636  -122.4286     83.59        71          75   \n",
       "..             ...      ...        ...       ...       ...         ...   \n",
       "570          Andra  62.5147    65.8878     60.03        52         100   \n",
       "571       Carballo  43.2130    -8.6910     80.02        80           7   \n",
       "572        Klichka  50.4457   117.9960     57.97        91          39   \n",
       "573    Orange Cove  36.6244  -119.3137     91.85        42           1   \n",
       "574     Port Blair  11.6667    92.7500     82.26        78         100   \n",
       "\n",
       "     Wind Speed Country  \n",
       "0          2.66      GL  \n",
       "1         10.36      AU  \n",
       "2         10.02      PG  \n",
       "3         12.77      KI  \n",
       "4          1.01      US  \n",
       "..          ...     ...  \n",
       "570        6.17      RU  \n",
       "571        5.55      ES  \n",
       "572        6.22      RU  \n",
       "573        4.61      US  \n",
       "574       16.15      IN  \n",
       "\n",
       "[575 rows x 8 columns]"
      ],
      "text/html": "<div>\n<style scoped>\n    .dataframe tbody tr th:only-of-type {\n        vertical-align: middle;\n    }\n\n    .dataframe tbody tr th {\n        vertical-align: top;\n    }\n\n    .dataframe thead th {\n        text-align: right;\n    }\n</style>\n<table border=\"1\" class=\"dataframe\">\n  <thead>\n    <tr style=\"text-align: right;\">\n      <th></th>\n      <th>City</th>\n      <th>Lat</th>\n      <th>Longitude</th>\n      <th>Max Temp</th>\n      <th>Humidity</th>\n      <th>Cloudiness</th>\n      <th>Wind Speed</th>\n      <th>Country</th>\n    </tr>\n  </thead>\n  <tbody>\n    <tr>\n      <th>0</th>\n      <td>Qaanaaq</td>\n      <td>77.4840</td>\n      <td>-69.3632</td>\n      <td>38.89</td>\n      <td>79</td>\n      <td>71</td>\n      <td>2.66</td>\n      <td>GL</td>\n    </tr>\n    <tr>\n      <th>1</th>\n      <td>Carnarvon</td>\n      <td>-24.8667</td>\n      <td>113.6333</td>\n      <td>48.27</td>\n      <td>38</td>\n      <td>66</td>\n      <td>10.36</td>\n      <td>AU</td>\n    </tr>\n    <tr>\n      <th>2</th>\n      <td>Kavieng</td>\n      <td>-2.5744</td>\n      <td>150.7967</td>\n      <td>81.82</td>\n      <td>77</td>\n      <td>100</td>\n      <td>10.02</td>\n      <td>PG</td>\n    </tr>\n    <tr>\n      <th>3</th>\n      <td>Butaritari</td>\n      <td>3.0707</td>\n      <td>172.7902</td>\n      <td>81.82</td>\n      <td>78</td>\n      <td>100</td>\n      <td>12.77</td>\n      <td>KI</td>\n    </tr>\n    <tr>\n      <th>4</th>\n      <td>Half Moon Bay</td>\n      <td>37.4636</td>\n      <td>-122.4286</td>\n      <td>83.59</td>\n      <td>71</td>\n      <td>75</td>\n      <td>1.01</td>\n      <td>US</td>\n    </tr>\n    <tr>\n      <th>...</th>\n      <td>...</td>\n      <td>...</td>\n      <td>...</td>\n      <td>...</td>\n      <td>...</td>\n      <td>...</td>\n      <td>...</td>\n      <td>...</td>\n    </tr>\n    <tr>\n      <th>570</th>\n      <td>Andra</td>\n      <td>62.5147</td>\n      <td>65.8878</td>\n      <td>60.03</td>\n      <td>52</td>\n      <td>100</td>\n      <td>6.17</td>\n      <td>RU</td>\n    </tr>\n    <tr>\n      <th>571</th>\n      <td>Carballo</td>\n      <td>43.2130</td>\n      <td>-8.6910</td>\n      <td>80.02</td>\n      <td>80</td>\n      <td>7</td>\n      <td>5.55</td>\n      <td>ES</td>\n    </tr>\n    <tr>\n      <th>572</th>\n      <td>Klichka</td>\n      <td>50.4457</td>\n      <td>117.9960</td>\n      <td>57.97</td>\n      <td>91</td>\n      <td>39</td>\n      <td>6.22</td>\n      <td>RU</td>\n    </tr>\n    <tr>\n      <th>573</th>\n      <td>Orange Cove</td>\n      <td>36.6244</td>\n      <td>-119.3137</td>\n      <td>91.85</td>\n      <td>42</td>\n      <td>1</td>\n      <td>4.61</td>\n      <td>US</td>\n    </tr>\n    <tr>\n      <th>574</th>\n      <td>Port Blair</td>\n      <td>11.6667</td>\n      <td>92.7500</td>\n      <td>82.26</td>\n      <td>78</td>\n      <td>100</td>\n      <td>16.15</td>\n      <td>IN</td>\n    </tr>\n  </tbody>\n</table>\n<p>575 rows × 8 columns</p>\n</div>"
     },
     "metadata": {},
     "execution_count": 2
    }
   ],
   "source": [
    "city_df = pd.read_csv('clean_city_df.csv')\n",
    "city_df"
   ]
  },
  {
   "cell_type": "markdown",
   "metadata": {},
   "source": [
    "### Humidity Heatmap\n",
    "* Configure gmaps.\n",
    "* Use the Lat and Lng as locations and Humidity as the weight.\n",
    "* Add Heatmap layer to map."
   ]
  },
  {
   "cell_type": "code",
   "execution_count": 7,
   "metadata": {},
   "outputs": [
    {
     "output_type": "display_data",
     "data": {
      "text/plain": "Figure(layout=FigureLayout(height='420px'))",
      "application/vnd.jupyter.widget-view+json": {
       "version_major": 2,
       "version_minor": 0,
       "model_id": "453b966e7aac4e30b7abd75bb0ab16d8"
      }
     },
     "metadata": {}
    }
   ],
   "source": [
    "gmaps.configure(api_key=g_key) # you have to replace the value YOUR_API_KEY by the key generated in the step 3.\n",
    "\n",
    "\n",
    "heat_df = city_df[['Lat','Longitude']]\n",
    "records = heat_df.to_records(index=False)\n",
    "result = list(records)\n",
    "locations = result\n",
    "fig = gmaps.figure()\n",
    "heat_lay = gmaps.heatmap_layer(locations=city_df[['Lat','Longitude']], weights= city_df['Humidity'],dissipating=False)\n",
    "\n",
    "fig.add_layer(heat_lay)\n",
    "fig"
   ]
  },
  {
   "cell_type": "code",
   "execution_count": null,
   "metadata": {},
   "outputs": [],
   "source": []
  },
  {
   "cell_type": "markdown",
   "metadata": {},
   "source": [
    "### Create new DataFrame fitting weather criteria\n",
    "* Narrow down the cities to fit weather conditions.\n",
    "* Drop any rows will null values."
   ]
  },
  {
   "cell_type": "code",
   "execution_count": null,
   "metadata": {},
   "outputs": [],
   "source": []
  },
  {
   "cell_type": "markdown",
   "metadata": {},
   "source": [
    "### Hotel Map\n",
    "* Store into variable named `hotel_df`.\n",
    "* Add a \"Hotel Name\" column to the DataFrame.\n",
    "* Set parameters to search for hotels with 5000 meters.\n",
    "* Hit the Google Places API for each city's coordinates.\n",
    "* Store the first Hotel result into the DataFrame.\n",
    "* Plot markers on top of the heatmap."
   ]
  },
  {
   "cell_type": "code",
   "execution_count": 11,
   "metadata": {},
   "outputs": [],
   "source": [
    "hotel_list = []\n",
    "\n",
    "for index, row in city_df.iterrows():\n",
    "    city_lat = str(row['Lat'])\n",
    "    city_log = str(row['Longitude'])\n",
    "    url = \"https://maps.googleapis.com/maps/api/place/nearbysearch/json?location=\" + city_lat+ \",\" + city_log + \"&radius=5000&type=hotel&key=\" + g_key\n",
    "    r = requests.get(url)\n",
    "    x = r.json()\n",
    "    y = x['results']\n",
    "    if not y:\n",
    "        hotel_list.append(\"No Hotel Near By\")\n",
    "    else: \n",
    "        hotel_list.append(y[0]['name'])\n",
    "\n",
    "city_df['Hotel'] = hotel_list"
   ]
  },
  {
   "cell_type": "code",
   "execution_count": 17,
   "metadata": {},
   "outputs": [
    {
     "output_type": "execute_result",
     "data": {
      "text/plain": [
       "              City      Lat  Longitude          Hotel Country\n",
       "0          Qaanaaq  77.4840   -69.3632        Qaanaaq      GL\n",
       "1        Carnarvon -24.8667   113.6333      Carnarvon      AU\n",
       "2          Kavieng  -2.5744   150.7967       Kaewieng      PG\n",
       "3       Butaritari   3.0707   172.7902      Ukiangang      KI\n",
       "4    Half Moon Bay  37.4636  -122.4286  Half Moon Bay      US\n",
       "..             ...      ...        ...            ...     ...\n",
       "570          Andra  62.5147    65.8878          Andra      RU\n",
       "571       Carballo  43.2130    -8.6910       Carballo      ES\n",
       "572        Klichka  50.4457   117.9960        Klichka      RU\n",
       "573    Orange Cove  36.6244  -119.3137    Orange Cove      US\n",
       "574     Port Blair  11.6667    92.7500     Port Blair      IN\n",
       "\n",
       "[575 rows x 5 columns]"
      ],
      "text/html": "<div>\n<style scoped>\n    .dataframe tbody tr th:only-of-type {\n        vertical-align: middle;\n    }\n\n    .dataframe tbody tr th {\n        vertical-align: top;\n    }\n\n    .dataframe thead th {\n        text-align: right;\n    }\n</style>\n<table border=\"1\" class=\"dataframe\">\n  <thead>\n    <tr style=\"text-align: right;\">\n      <th></th>\n      <th>City</th>\n      <th>Lat</th>\n      <th>Longitude</th>\n      <th>Hotel</th>\n      <th>Country</th>\n    </tr>\n  </thead>\n  <tbody>\n    <tr>\n      <th>0</th>\n      <td>Qaanaaq</td>\n      <td>77.4840</td>\n      <td>-69.3632</td>\n      <td>Qaanaaq</td>\n      <td>GL</td>\n    </tr>\n    <tr>\n      <th>1</th>\n      <td>Carnarvon</td>\n      <td>-24.8667</td>\n      <td>113.6333</td>\n      <td>Carnarvon</td>\n      <td>AU</td>\n    </tr>\n    <tr>\n      <th>2</th>\n      <td>Kavieng</td>\n      <td>-2.5744</td>\n      <td>150.7967</td>\n      <td>Kaewieng</td>\n      <td>PG</td>\n    </tr>\n    <tr>\n      <th>3</th>\n      <td>Butaritari</td>\n      <td>3.0707</td>\n      <td>172.7902</td>\n      <td>Ukiangang</td>\n      <td>KI</td>\n    </tr>\n    <tr>\n      <th>4</th>\n      <td>Half Moon Bay</td>\n      <td>37.4636</td>\n      <td>-122.4286</td>\n      <td>Half Moon Bay</td>\n      <td>US</td>\n    </tr>\n    <tr>\n      <th>...</th>\n      <td>...</td>\n      <td>...</td>\n      <td>...</td>\n      <td>...</td>\n      <td>...</td>\n    </tr>\n    <tr>\n      <th>570</th>\n      <td>Andra</td>\n      <td>62.5147</td>\n      <td>65.8878</td>\n      <td>Andra</td>\n      <td>RU</td>\n    </tr>\n    <tr>\n      <th>571</th>\n      <td>Carballo</td>\n      <td>43.2130</td>\n      <td>-8.6910</td>\n      <td>Carballo</td>\n      <td>ES</td>\n    </tr>\n    <tr>\n      <th>572</th>\n      <td>Klichka</td>\n      <td>50.4457</td>\n      <td>117.9960</td>\n      <td>Klichka</td>\n      <td>RU</td>\n    </tr>\n    <tr>\n      <th>573</th>\n      <td>Orange Cove</td>\n      <td>36.6244</td>\n      <td>-119.3137</td>\n      <td>Orange Cove</td>\n      <td>US</td>\n    </tr>\n    <tr>\n      <th>574</th>\n      <td>Port Blair</td>\n      <td>11.6667</td>\n      <td>92.7500</td>\n      <td>Port Blair</td>\n      <td>IN</td>\n    </tr>\n  </tbody>\n</table>\n<p>575 rows × 5 columns</p>\n</div>"
     },
     "metadata": {},
     "execution_count": 17
    }
   ],
   "source": [
    "hotel_df = city_df[['City','Lat','Longitude','Hotel','Country']]\n",
    "hotel_df"
   ]
  },
  {
   "cell_type": "code",
   "execution_count": 19,
   "metadata": {},
   "outputs": [],
   "source": [
    "# NOTE: Do not change any of the code in this cell\n",
    "\n",
    "# Using the template add the hotel marks to the heatmap\n",
    "info_box_template = \"\"\"\n",
    "<dl>\n",
    "<dt>Name</dt><dd>{Hotel}</dd>\n",
    "<dt>City</dt><dd>{City}</dd>\n",
    "<dt>Country</dt><dd>{Country}</dd>\n",
    "</dl>\n",
    "\"\"\"\n",
    "# Store the DataFrame Row\n",
    "# NOTE: be sure to update with your DataFrame name\n",
    "hotel_info = [info_box_template.format(**row) for index, row in hotel_df.iterrows()]\n",
    "locations = hotel_df[[\"Lat\", \"Longitude\"]]"
   ]
  },
  {
   "cell_type": "code",
   "execution_count": 20,
   "metadata": {},
   "outputs": [
    {
     "output_type": "display_data",
     "data": {
      "text/plain": "Figure(layout=FigureLayout(height='420px'))",
      "application/vnd.jupyter.widget-view+json": {
       "version_major": 2,
       "version_minor": 0,
       "model_id": "453b966e7aac4e30b7abd75bb0ab16d8"
      }
     },
     "metadata": {}
    }
   ],
   "source": [
    "marker_locations = hotel_df[['Lat','Longitude']]\n",
    "markers = gmaps.marker_layer(marker_locations)\n",
    "fig.add_layer(markers)\n",
    "fig"
   ]
  },
  {
   "cell_type": "code",
   "execution_count": null,
   "metadata": {},
   "outputs": [],
   "source": []
  }
 ],
 "metadata": {
  "kernelspec": {
   "name": "python3",
   "display_name": "Python 3.8.8 64-bit ('base': conda)"
  },
  "language_info": {
   "codemirror_mode": {
    "name": "ipython",
    "version": 3
   },
   "file_extension": ".py",
   "mimetype": "text/x-python",
   "name": "python",
   "nbconvert_exporter": "python",
   "pygments_lexer": "ipython3",
   "version": "3.8.8"
  },
  "latex_envs": {
   "LaTeX_envs_menu_present": true,
   "autoclose": false,
   "autocomplete": true,
   "bibliofile": "biblio.bib",
   "cite_by": "apalike",
   "current_citInitial": 1,
   "eqLabelWithNumbers": true,
   "eqNumInitial": 1,
   "hotkeys": {
    "equation": "Ctrl-E",
    "itemize": "Ctrl-I"
   },
   "labels_anchors": false,
   "latex_user_defs": false,
   "report_style_numbering": false,
   "user_envs_cfg": false
  },
  "interpreter": {
   "hash": "37c85d35e5d450b29108dc863fa03ac65f9a7e035f8186e7f9c3ff1f421d5a6d"
  }
 },
 "nbformat": 4,
 "nbformat_minor": 4
}